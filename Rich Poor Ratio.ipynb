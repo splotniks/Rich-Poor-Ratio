{
 "cells": [
  {
   "cell_type": "code",
   "execution_count": 1,
   "id": "164d24b9",
   "metadata": {},
   "outputs": [
    {
     "data": {
      "application/vnd.jupyter.widget-view+json": {
       "model_id": "b05ed99be3af4695bfaca301f7c131af",
       "version_major": 2,
       "version_minor": 0
      },
      "text/plain": [
       "VBox(children=(HTML(value='Select the number of societies you would like to compare\\n                    <p><e…"
      ]
     },
     "metadata": {},
     "output_type": "display_data"
    }
   ],
   "source": [
    "import inequality_widget as iw\n",
    "counter1 = iw.Counter.create(2)\n",
    "counter1.container"
   ]
  },
  {
   "cell_type": "code",
   "execution_count": 2,
   "id": "a673ff7b",
   "metadata": {},
   "outputs": [
    {
     "data": {
      "application/vnd.jupyter.widget-view+json": {
       "model_id": "eaf7efb86238454a960d5d02e18ef4e3",
       "version_major": 2,
       "version_minor": 0
      },
      "text/plain": [
       "VBox(children=(HTML(value='<h1>Compare the Rich/Poor ratio in multiple countries</h1>\\n                    \\n …"
      ]
     },
     "metadata": {},
     "output_type": "display_data"
    }
   ],
   "source": [
    "iw.MultIncomeDeciles.create(counter1._num).container"
   ]
  }
 ],
 "metadata": {
  "kernelspec": {
   "display_name": "Python 3",
   "language": "python",
   "name": "python3"
  },
  "language_info": {
   "codemirror_mode": {
    "name": "ipython",
    "version": 3
   },
   "file_extension": ".py",
   "mimetype": "text/x-python",
   "name": "python",
   "nbconvert_exporter": "python",
   "pygments_lexer": "ipython3",
   "version": "3.7.4"
  }
 },
 "nbformat": 4,
 "nbformat_minor": 5
}
